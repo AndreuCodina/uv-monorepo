{
 "cells": [
  {
   "cell_type": "code",
   "execution_count": 1,
   "metadata": {},
   "outputs": [
    {
     "ename": "ModuleNotFoundError",
     "evalue": "No module named 'domain'",
     "output_type": "error",
     "traceback": [
      "\u001b[0;31m---------------------------------------------------------------------------\u001b[0m",
      "\u001b[0;31mModuleNotFoundError\u001b[0m                       Traceback (most recent call last)",
      "Cell \u001b[0;32mIn[1], line 1\u001b[0m\n\u001b[0;32m----> 1\u001b[0m \u001b[38;5;28;01mfrom\u001b[39;00m \u001b[38;5;21;01mdomain\u001b[39;00m\u001b[38;5;21;01m.\u001b[39;00m\u001b[38;5;21;01mdomain_printer\u001b[39;00m \u001b[38;5;28;01mimport\u001b[39;00m DomainPrinter\n\u001b[1;32m      4\u001b[0m DomainPrinter()\u001b[38;5;241m.\u001b[39mprint()\n",
      "\u001b[0;31mModuleNotFoundError\u001b[0m: No module named 'domain'"
     ]
    }
   ],
   "source": [
    "from domain.domain_printer import DomainPrinter\n",
    "\n",
    "\n",
    "DomainPrinter().print()"
   ]
  },
  {
   "cell_type": "code",
   "execution_count": 2,
   "metadata": {},
   "outputs": [
    {
     "ename": "ModuleNotFoundError",
     "evalue": "No module named 'api'",
     "output_type": "error",
     "traceback": [
      "\u001b[0;31m---------------------------------------------------------------------------\u001b[0m",
      "\u001b[0;31mModuleNotFoundError\u001b[0m                       Traceback (most recent call last)",
      "Cell \u001b[0;32mIn[2], line 1\u001b[0m\n\u001b[0;32m----> 1\u001b[0m \u001b[38;5;28;01mfrom\u001b[39;00m \u001b[38;5;21;01mapi\u001b[39;00m\u001b[38;5;21;01m.\u001b[39;00m\u001b[38;5;21;01mapi_printer\u001b[39;00m \u001b[38;5;28;01mimport\u001b[39;00m ApiPrinter\n\u001b[1;32m      3\u001b[0m ApiPrinter()\u001b[38;5;241m.\u001b[39mprint()\n",
      "\u001b[0;31mModuleNotFoundError\u001b[0m: No module named 'api'"
     ]
    }
   ],
   "source": [
    "from api.api_printer import ApiPrinter\n",
    "\n",
    "ApiPrinter().print()"
   ]
  },
  {
   "cell_type": "code",
   "execution_count": 1,
   "metadata": {},
   "outputs": [
    {
     "ename": "ModuleNotFoundError",
     "evalue": "No module named 'mylib'",
     "output_type": "error",
     "traceback": [
      "\u001b[0;31m---------------------------------------------------------------------------\u001b[0m",
      "\u001b[0;31mModuleNotFoundError\u001b[0m                       Traceback (most recent call last)",
      "Cell \u001b[0;32mIn[1], line 1\u001b[0m\n\u001b[0;32m----> 1\u001b[0m \u001b[38;5;28;01mfrom\u001b[39;00m \u001b[38;5;21;01mmylib\u001b[39;00m\u001b[38;5;21;01m.\u001b[39;00m\u001b[38;5;21;01mmylib_printer\u001b[39;00m \u001b[38;5;28;01mimport\u001b[39;00m MylibPrinter\n\u001b[1;32m      4\u001b[0m MylibPrinter()\u001b[38;5;241m.\u001b[39mprint()\n",
      "\u001b[0;31mModuleNotFoundError\u001b[0m: No module named 'mylib'"
     ]
    }
   ],
   "source": [
    "from mylib.mylib_printer import MylibPrinter\n",
    "\n",
    "\n",
    "MylibPrinter().print()"
   ]
  }
 ],
 "metadata": {
  "kernelspec": {
   "display_name": ".venv",
   "language": "python",
   "name": "python3"
  },
  "language_info": {
   "codemirror_mode": {
    "name": "ipython",
    "version": 3
   },
   "file_extension": ".py",
   "mimetype": "text/x-python",
   "name": "python",
   "nbconvert_exporter": "python",
   "pygments_lexer": "ipython3",
   "version": "3.12.1"
  }
 },
 "nbformat": 4,
 "nbformat_minor": 2
}
